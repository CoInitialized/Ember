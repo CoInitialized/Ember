{
 "cells": [
  {
   "cell_type": "code",
   "execution_count": 28,
   "id": "5a2c9db0",
   "metadata": {},
   "outputs": [],
   "source": [
    "import pandas as pd\n",
    "import os\n",
    "import ember as e\n",
    "from pathlib import Path"
   ]
  },
  {
   "cell_type": "code",
   "execution_count": 89,
   "id": "f8ce3923",
   "metadata": {},
   "outputs": [],
   "source": [
    "def filter_df(merged):\n",
    "    merged  = merged[['expenses','direction','route_start_datetime','km_empty_x',\n",
    "       'km_nonempty_x', 'train_km_x', 'prim_train_line', 'train_intervals',\n",
    "       'ferry_duration_x', 'prim_ferry_line', 'ferry_intervals', 'km_total',\n",
    "       'max_weight', 'id_contractor','step','if_empty','kg_load_unload',\n",
    "       'kg_current', 'ferry', 'ferry_duration_y','train',\n",
    "       'train_km_y', 'train_line', 'tail_init', 'tail_fin', 'tail', 'km', 'km_nonempty_y', 'km_empty_y', 'km_haversine',\n",
    "                'vehicle_payload_kg', 'vehicle_payload_pallets',\n",
    "                     'route_start_datetime']]\n",
    "    return merged"
   ]
  },
  {
   "cell_type": "code",
   "execution_count": 90,
   "id": "098c806b",
   "metadata": {},
   "outputs": [],
   "source": [
    "dsp = Path('datasets/konkurs')"
   ]
  },
  {
   "cell_type": "code",
   "execution_count": 91,
   "id": "cefcf9e9",
   "metadata": {},
   "outputs": [
    {
     "data": {
      "text/plain": [
       "['css_main_test.csv',\n",
       " 'css_main_training.csv',\n",
       " 'css_routes_training.csv',\n",
       " 'fuel_prices.csv',\n",
       " '.~lock.css_routes_training.csv#',\n",
       " 'css_routes_test.csv',\n",
       " '.~lock.css_main_training.csv#',\n",
       " 'columns_description.txt']"
      ]
     },
     "execution_count": 91,
     "metadata": {},
     "output_type": "execute_result"
    }
   ],
   "source": [
    "os.listdir(dsp)"
   ]
  },
  {
   "cell_type": "code",
   "execution_count": 92,
   "id": "fd0ed8f2",
   "metadata": {},
   "outputs": [],
   "source": [
    "fp = pd.read_csv(dsp / 'fuel_prices.csv', sep =';')"
   ]
  },
  {
   "cell_type": "code",
   "execution_count": 93,
   "id": "a2bbbcfd",
   "metadata": {},
   "outputs": [
    {
     "name": "stdout",
     "output_type": "stream",
     "text": [
      "# Columns description\n",
      "## Main table\n",
      "- id_contract: forwarding contract identifier to connect tables main and routes\n",
      "- expenses: a contract related costs; the target column\n",
      "- duty_count: number of customs crossings\n",
      "- refrigerated: whether a given contract will be performed with a refrigerated trailer\n",
      "- id_payer: contract payer's identifier\n",
      "- id_currency: the identifier of the currency in which the contract is paid\n",
      "- direction: direction of the contract\n",
      "- temperature: temperature to be maintained in a refrigerated trailer\n",
      "- load_size_type: type of cargo size to be transported\n",
      "- contract_type: type of a contract\n",
      "- euro_exchange_rate: Euro exchange rate at the start of the contract\n",
      "- id_service_type: course type identifier\n",
      "- first_load_lat: latitude of the first cargo load\n",
      "- first_load_lon: longitude of the first cargo load\n",
      "- last_unload_lat: latitude of the last cargo unload\n",
      "- last_unload_lon: longitude of the last cargo unload\n",
      "- route_start_lat: latitude of the beginning of a route\n",
      "- route_start_lon: longitude of the beginning of a route\n",
      "- route_end_lat: latitude of the end of a route\n",
      "- route_end_lon: longitude of the end of a route\n",
      "- first_load_country: country of first cargo loading\n",
      "- last_unload_country: country of last cargo unloading\n",
      "- route_start_country: country of the beginning of a route\n",
      "- route_end_country: country of the end of a route\n",
      "- route_start_datetime: planned time of the beginning of a route\n",
      "- route_end_datetime: planned time of the end of a route\n",
      "- km_empty: kilometers to be covered with empty trailer\n",
      "- km_nonempty: kilometers to be covered with nonempty trailer\n",
      "- train_km: kilometers where the trailer will be transported by a train\n",
      "- prim_train_line: identifier of the main train line covered\n",
      "- train_intervals: the number of route intervals in which the trailer will be transported by a train\n",
      "- ferry_duration: estimated time to be spent on a ferry\n",
      "- prim_ferry_line: identifier of the main ferry line covered\n",
      "- ferry_intervals: the number of ferry transports\n",
      "- km_total: total kilometers to be covered according to the route plan\n",
      "- max_weight: maximum weight to be carried during the route\n",
      "\n",
      "## Routes table\n",
      "- id_contract: forwarding contract identifier to connect tables main and routes\n",
      "- id_contractor: an indicator of whether the route step will be performed by an external contractor\n",
      "- id_vehicle: an indicator of whether a vehicle will be used to perform the given step\n",
      "- id_trailer: an indicator of whether a trailer will be used to perform the given step\n",
      "- step: sequence number of a contract step\n",
      "- step_type: contract step type\n",
      "- if_empty: an indicator of whether during a given step the trailer will be empty\n",
      "- external_fleet: an indicator of whether the route step will be performed by an external contractor\n",
      "- kg_load_unload: kilograms of cargo to be loaded or unloaded from the trailer in a given step\n",
      "- kg_current: kilograms of cargo that are going to be carried at the begining of a given step\n",
      "- ferry: an indicator of whether a given step is going to be carried out by a ferry\n",
      "- ferry_duration: estimated time on a ferry in a given step\n",
      "- ferry_line: identifier of the ferry line used in a given step\n",
      "- train: an indicator of whether a given step is going to be carried out by a train\n",
      "- train_km: planned kilometers to be covered by a train for a given step\n",
      "- train_line: identifier of the train line used in a given step\n",
      "- tail_init: an indicator of whether a given step is an arrival to the main route of the contract\n",
      "- tail_fin: whether a given step is an driving the vehicle off the route of the contract after the end of a contract\n",
      "- tail: whether a given step is a tail_init or tail_fin\n",
      "- latitude: latitude of the end route step point\n",
      "- longitude: longitude of the end route step point\n",
      "- city: city of the route step point\n",
      "- address: address of the route step point\n",
      "- country_code: country code of the route step point\n",
      "- estimated_time: estimated (planned) time of arrival to the route step point\n",
      "- km: planned kilometers to be covered\n",
      "- km_nonempty: nonempty (with cargo) kilometers to be covered\n",
      "- km_empty: empty (without cargo) kilometers to be covered\n",
      "- km_haversine: haversine distance from the previous route point to the end of the corresponding route point\n",
      "- id_vehicle_model: identifier of the vehicle model that will perform the given step\n",
      "- vehicle_axle_count: number of axles of the vehicle that will perform the given step\n",
      "- vehicle_kerb_weight: kerb weight of the vehicle that will perform the given step\n",
      "- vehicle_engine_capacity: engine capacity of the vehicle that will perform the given step\n",
      "- vehicle_engine_power: engine power of the vehicle that will perform the given step\n",
      "- vehicle_payload_kg: payload in kilograms of the vehicle that will perform the given step\n",
      "- vehicle_payload_pallets: payload in the maximal number of pallets of the vehicle that will perform the given step\n",
      "- vehicle_payload_m3: payload in the cubic meters of the vehicle that will perform the given step\n",
      "- vehicle_cargo_hold_height: height of the cargo of the vehicle that will perform the given step\n",
      "- vehicle_cargo_hold_width: width of the cargo of the vehicle that will perform the given step\n",
      "- vehicle_cargo_hold_length: length of the cargo of the vehicle that will perform the given step\n",
      "- vehicle_length: length of the vehicle that will perform the given step\n",
      "- vehicle_width: width of the vehicle that will perform the given step\n",
      "- vehicle_heigth: heigth of the vehicle that will perform the given step\n",
      "- id_vehicle_type: identifier of a type of the vehicle that will perform the given step\n",
      "- vehicle_type: type of the vehicle that will perform the given step\n",
      "- vehicle_capacity_type: type of a capacity of the vehicle that will perform the given step\n",
      "- id_trailer_model: identifier of the trailer model that will perform the given step\n",
      "- trailer_axle_count: number of axles of the trailer that will perform the given step\n",
      "- trailer_kerb_weight: kerb weight of the trailer that will perform the given step\n",
      "- trailer_payload_kg: payload in kilograms of the trailer that will perform the given step\n",
      "- trailer_payload_pallets: payload in the maximal number of pallets of the trailer that will perform the given step\n",
      "- trailer_payload_m3: payload in the cubic meters of the trailer that will perform the given step\n",
      "- trailer_cargo_hold_height: height of the cargo of the trailer that will perform the given step\n",
      "- trailer_cargo_hold_width: width of the cargo of the trailer that will perform the given step\n",
      "- trailer_cargo_hold_length: length of the cargo of the trailer that will perform the given step\n",
      "- trailer_generator: whether the trailer is equipped with a generator\n",
      "- trailer_length: length of the trailer that will perform the given step\n",
      "- trailer_width: width of the trailer that will perform the given step\n",
      "- trailer_heigth: heigth of the trailer that will perform the given step\n",
      "- id_trailer_type: identifier of a type of the trailer that will perform the given step\n",
      "\n",
      "## Fuel prices table\n",
      "- date: date of price\n",
      "- disel_type1_price: price of type 1 fuel\n",
      "- disel_type2_price: price of type 2 fuel\n",
      "- disel_type3_price: price of type 3 fuel\n",
      "\n",
      "\n"
     ]
    }
   ],
   "source": [
    "with open(dsp / 'columns_description.txt') as file:\n",
    "    print(file.read())"
   ]
  },
  {
   "cell_type": "code",
   "execution_count": 94,
   "id": "46d602de",
   "metadata": {},
   "outputs": [],
   "source": [
    "main_t = pd.read_csv(dsp / 'css_main_training.csv', low_memory=False).iloc[:,:-1]\n",
    "routes_t = pd.read_csv(dsp / 'css_routes_training.csv', sep=';')\n",
    "routes_t = routes_t.groupby('id_contract')[list(routes_t.columns)[1:]].sum()"
   ]
  },
  {
   "cell_type": "code",
   "execution_count": 95,
   "id": "543ea35a",
   "metadata": {},
   "outputs": [
    {
     "data": {
      "text/plain": [
       "Index(['id_contractor', 'id_vehicle', 'id_trailer', 'step', 'if_empty',\n",
       "       'external_fleet', 'kg_load_unload', 'kg_current', 'ferry',\n",
       "       'ferry_duration', 'ferry_line', 'train', 'train_km', 'train_line',\n",
       "       'tail_init', 'tail_fin', 'tail', 'latitude', 'longitude', 'km',\n",
       "       'km_nonempty', 'km_empty', 'km_haversine', 'id_vehicle_model',\n",
       "       'vehicle_axle_count', 'vehicle_kerb_weight', 'vehicle_engine_capacity',\n",
       "       'vehicle_engine_power', 'vehicle_payload_kg', 'vehicle_payload_pallets',\n",
       "       'vehicle_payload_m3', 'vehicle_cargo_hold_height',\n",
       "       'vehicle_cargo_hold_width', 'vehicle_cargo_hold_length',\n",
       "       'vehicle_length', 'vehicle_width', 'vehicle_heigth', 'id_vehicle_type',\n",
       "       'id_trailer_model', 'trailer_axle_count', 'trailer_kerb_weight',\n",
       "       'trailer_payload_kg', 'trailer_payload_pallets', 'trailer_payload_m3',\n",
       "       'trailer_cargo_hold_height', 'trailer_cargo_hold_width',\n",
       "       'trailer_cargo_hold_length', 'trailer_length', 'trailer_width',\n",
       "       'trailer_heigth', 'id_trailer_type'],\n",
       "      dtype='object')"
      ]
     },
     "execution_count": 95,
     "metadata": {},
     "output_type": "execute_result"
    }
   ],
   "source": [
    "routes_t.columns"
   ]
  },
  {
   "cell_type": "code",
   "execution_count": 96,
   "id": "fbb991fd",
   "metadata": {},
   "outputs": [
    {
     "data": {
      "text/html": [
       "<div>\n",
       "<style scoped>\n",
       "    .dataframe tbody tr th:only-of-type {\n",
       "        vertical-align: middle;\n",
       "    }\n",
       "\n",
       "    .dataframe tbody tr th {\n",
       "        vertical-align: top;\n",
       "    }\n",
       "\n",
       "    .dataframe thead th {\n",
       "        text-align: right;\n",
       "    }\n",
       "</style>\n",
       "<table border=\"1\" class=\"dataframe\">\n",
       "  <thead>\n",
       "    <tr style=\"text-align: right;\">\n",
       "      <th></th>\n",
       "      <th>date</th>\n",
       "      <th>disel_type1_price</th>\n",
       "      <th>disel_type2_price</th>\n",
       "      <th>disel_type3_price</th>\n",
       "    </tr>\n",
       "  </thead>\n",
       "  <tbody>\n",
       "    <tr>\n",
       "      <th>0</th>\n",
       "      <td>2016-01-01</td>\n",
       "      <td>3.6792</td>\n",
       "      <td>3.6152</td>\n",
       "      <td>2.5904</td>\n",
       "    </tr>\n",
       "    <tr>\n",
       "      <th>1</th>\n",
       "      <td>2016-01-02</td>\n",
       "      <td>3.6792</td>\n",
       "      <td>3.6152</td>\n",
       "      <td>2.5904</td>\n",
       "    </tr>\n",
       "    <tr>\n",
       "      <th>2</th>\n",
       "      <td>2016-01-03</td>\n",
       "      <td>3.6792</td>\n",
       "      <td>3.6152</td>\n",
       "      <td>2.5904</td>\n",
       "    </tr>\n",
       "    <tr>\n",
       "      <th>3</th>\n",
       "      <td>2016-01-04</td>\n",
       "      <td>3.6792</td>\n",
       "      <td>3.6152</td>\n",
       "      <td>2.5904</td>\n",
       "    </tr>\n",
       "    <tr>\n",
       "      <th>4</th>\n",
       "      <td>2016-01-05</td>\n",
       "      <td>3.6736</td>\n",
       "      <td>3.6096</td>\n",
       "      <td>2.5896</td>\n",
       "    </tr>\n",
       "    <tr>\n",
       "      <th>...</th>\n",
       "      <td>...</td>\n",
       "      <td>...</td>\n",
       "      <td>...</td>\n",
       "      <td>...</td>\n",
       "    </tr>\n",
       "    <tr>\n",
       "      <th>2156</th>\n",
       "      <td>2021-11-26</td>\n",
       "      <td>5.3648</td>\n",
       "      <td>5.1528</td>\n",
       "      <td>3.9392</td>\n",
       "    </tr>\n",
       "    <tr>\n",
       "      <th>2157</th>\n",
       "      <td>2021-11-27</td>\n",
       "      <td>5.2632</td>\n",
       "      <td>5.0512</td>\n",
       "      <td>3.8592</td>\n",
       "    </tr>\n",
       "    <tr>\n",
       "      <th>2158</th>\n",
       "      <td>2021-11-28</td>\n",
       "      <td>5.2632</td>\n",
       "      <td>5.0512</td>\n",
       "      <td>3.8592</td>\n",
       "    </tr>\n",
       "    <tr>\n",
       "      <th>2159</th>\n",
       "      <td>2021-11-29</td>\n",
       "      <td>5.2632</td>\n",
       "      <td>5.0512</td>\n",
       "      <td>3.8592</td>\n",
       "    </tr>\n",
       "    <tr>\n",
       "      <th>2160</th>\n",
       "      <td>2021-11-30</td>\n",
       "      <td>5.2408</td>\n",
       "      <td>5.0288</td>\n",
       "      <td>3.7920</td>\n",
       "    </tr>\n",
       "  </tbody>\n",
       "</table>\n",
       "<p>2161 rows × 4 columns</p>\n",
       "</div>"
      ],
      "text/plain": [
       "            date  disel_type1_price  disel_type2_price  disel_type3_price\n",
       "0     2016-01-01             3.6792             3.6152             2.5904\n",
       "1     2016-01-02             3.6792             3.6152             2.5904\n",
       "2     2016-01-03             3.6792             3.6152             2.5904\n",
       "3     2016-01-04             3.6792             3.6152             2.5904\n",
       "4     2016-01-05             3.6736             3.6096             2.5896\n",
       "...          ...                ...                ...                ...\n",
       "2156  2021-11-26             5.3648             5.1528             3.9392\n",
       "2157  2021-11-27             5.2632             5.0512             3.8592\n",
       "2158  2021-11-28             5.2632             5.0512             3.8592\n",
       "2159  2021-11-29             5.2632             5.0512             3.8592\n",
       "2160  2021-11-30             5.2408             5.0288             3.7920\n",
       "\n",
       "[2161 rows x 4 columns]"
      ]
     },
     "execution_count": 96,
     "metadata": {},
     "output_type": "execute_result"
    }
   ],
   "source": [
    "fp"
   ]
  },
  {
   "cell_type": "code",
   "execution_count": 97,
   "id": "79c44d51",
   "metadata": {},
   "outputs": [
    {
     "data": {
      "text/plain": [
       "(330055, 51)"
      ]
     },
     "execution_count": 97,
     "metadata": {},
     "output_type": "execute_result"
    }
   ],
   "source": [
    "routes_t.shape"
   ]
  },
  {
   "cell_type": "code",
   "execution_count": 98,
   "id": "573bb6d0",
   "metadata": {},
   "outputs": [
    {
     "data": {
      "text/plain": [
       "(330055, 36)"
      ]
     },
     "execution_count": 98,
     "metadata": {},
     "output_type": "execute_result"
    }
   ],
   "source": [
    "main_t.shape"
   ]
  },
  {
   "cell_type": "code",
   "execution_count": 99,
   "id": "fe79b139",
   "metadata": {},
   "outputs": [],
   "source": [
    "merged = pd.merge(main_t,routes_t,on='id_contract',how='left')"
   ]
  },
  {
   "cell_type": "code",
   "execution_count": 100,
   "id": "160b4875",
   "metadata": {},
   "outputs": [
    {
     "data": {
      "text/plain": [
       "Index(['id_contract', 'expenses', 'duty_count', 'refrigerated', 'id_payer',\n",
       "       'id_currency', 'direction', 'temperature', 'load_size_type',\n",
       "       'contract_type', 'euro_exchange_rate', 'id_service_type',\n",
       "       'first_load_lat', 'first_load_lon', 'last_unload_lat',\n",
       "       'last_unload_lon', 'route_start_lat', 'route_start_lon',\n",
       "       'route_end_lat', 'route_end_lon', 'first_load_country',\n",
       "       'last_unload_country', 'route_start_country', 'route_end_country',\n",
       "       'route_start_datetime', 'route_end_datetime', 'km_empty_x',\n",
       "       'km_nonempty_x', 'train_km_x', 'prim_train_line', 'train_intervals',\n",
       "       'ferry_duration_x', 'prim_ferry_line', 'ferry_intervals', 'km_total',\n",
       "       'max_weight', 'id_contractor', 'id_vehicle', 'id_trailer', 'step',\n",
       "       'if_empty', 'external_fleet', 'kg_load_unload', 'kg_current', 'ferry',\n",
       "       'ferry_duration_y', 'ferry_line', 'train', 'train_km_y', 'train_line',\n",
       "       'tail_init', 'tail_fin', 'tail', 'latitude', 'longitude', 'km',\n",
       "       'km_nonempty_y', 'km_empty_y', 'km_haversine', 'id_vehicle_model',\n",
       "       'vehicle_axle_count', 'vehicle_kerb_weight', 'vehicle_engine_capacity',\n",
       "       'vehicle_engine_power', 'vehicle_payload_kg', 'vehicle_payload_pallets',\n",
       "       'vehicle_payload_m3', 'vehicle_cargo_hold_height',\n",
       "       'vehicle_cargo_hold_width', 'vehicle_cargo_hold_length',\n",
       "       'vehicle_length', 'vehicle_width', 'vehicle_heigth', 'id_vehicle_type',\n",
       "       'id_trailer_model', 'trailer_axle_count', 'trailer_kerb_weight',\n",
       "       'trailer_payload_kg', 'trailer_payload_pallets', 'trailer_payload_m3',\n",
       "       'trailer_cargo_hold_height', 'trailer_cargo_hold_width',\n",
       "       'trailer_cargo_hold_length', 'trailer_length', 'trailer_width',\n",
       "       'trailer_heigth', 'id_trailer_type'],\n",
       "      dtype='object')"
      ]
     },
     "execution_count": 100,
     "metadata": {},
     "output_type": "execute_result"
    }
   ],
   "source": []
  },
  {
   "cell_type": "code",
   "execution_count": 104,
   "id": "b45f684f",
   "metadata": {},
   "outputs": [
    {
     "data": {
      "text/plain": [
       "Index(['expenses', 'direction', 'route_start_datetime', 'route_start_datetime',\n",
       "       'km_empty_x', 'km_nonempty_x', 'train_km_x', 'prim_train_line',\n",
       "       'train_intervals', 'ferry_duration_x', 'prim_ferry_line',\n",
       "       'ferry_intervals', 'km_total', 'max_weight', 'id_contractor', 'step',\n",
       "       'if_empty', 'kg_load_unload', 'kg_current', 'ferry', 'ferry_duration_y',\n",
       "       'train', 'train_km_y', 'train_line', 'tail_init', 'tail_fin', 'tail',\n",
       "       'km', 'km_nonempty_y', 'km_empty_y', 'km_haversine',\n",
       "       'vehicle_payload_kg', 'vehicle_payload_pallets', 'route_start_datetime',\n",
       "       'route_start_datetime'],\n",
       "      dtype='object')"
      ]
     },
     "execution_count": 104,
     "metadata": {},
     "output_type": "execute_result"
    }
   ],
   "source": [
    "merged = filter_df(merged)\n",
    "merged.columns"
   ]
  },
  {
   "cell_type": "code",
   "execution_count": 105,
   "id": "850216cf",
   "metadata": {},
   "outputs": [],
   "source": [
    "from ember.preprocessing import Preprocessor\n",
    "from ember.optimize import GridSelector, BaesianSklearnSelector\n",
    "from sklearn.pipeline import make_pipeline\n",
    "from ember.utils import DtypeSelector, Fraction_Selector\n",
    "import pandas as pd\n",
    "import numpy as np\n",
    "from ember.impute import GeneralImputer\n",
    "from ember.preprocessing import GeneralEncoder\n",
    "from sklearn.model_selection import train_test_split\n",
    "from sklearn.metrics import accuracy_score\n",
    "from xgboost import XGBRegressor\n",
    "from catboost import CatBoostRegressor\n",
    "\n",
    "\n",
    "\n",
    "data = merged\n",
    "\n",
    "X, y = data.drop(columns = ['expenses']),data['expenses']\n",
    "X_train, X_test, y_train, y_test = train_test_split(X, y, random_state = 42)\n",
    "\n",
    "preprocessor = Preprocessor()\n",
    "preprocessor.add_branch(\"categorical\")\n",
    "preprocessor.add_branch('numerical')\n",
    "\n",
    "preprocessor.add_transformer_to_branch(\"numerical\", DtypeSelector(np.number))\n",
    "preprocessor.add_transformer_to_branch(\"numerical\", Fraction_Selector(0.2))\n",
    "preprocessor.add_transformer_to_branch(\"numerical\", GeneralImputer('Simple'))\n",
    "\n",
    "preprocessor.add_transformer_to_branch(\"categorical\", DtypeSelector(object))\n",
    "preprocessor.add_transformer_to_branch(\"categorical\", Fraction_Selector(0.2))\n",
    "preprocessor.add_transformer_to_branch(\"categorical\", GeneralImputer('Simple', strategy='most_frequent'))\n",
    "preprocessor.add_transformer_to_branch(\"categorical\", GeneralEncoder(kind = 'LE'))\n",
    "\n",
    "\n",
    "final = preprocessor.merge()\n",
    "\n",
    "model = CatBoostRegressor()\n",
    "\n",
    "clf_pipe = make_pipeline(final, model) "
   ]
  },
  {
   "cell_type": "code",
   "execution_count": 106,
   "id": "1befda6e",
   "metadata": {},
   "outputs": [
    {
     "name": "stdout",
     "output_type": "stream",
     "text": [
      "<class 'pandas.core.frame.DataFrame'>\n",
      "direction\n",
      "Missing 0.0\n",
      "Selecting\n",
      "route_start_datetime\n",
      "Missing route_start_datetime    0.0\n",
      "route_start_datetime    0.0\n",
      "route_start_datetime    0.0\n",
      "route_start_datetime    0.0\n",
      "dtype: float64\n"
     ]
    },
    {
     "ename": "ValueError",
     "evalue": "The truth value of a Series is ambiguous. Use a.empty, a.bool(), a.item(), a.any() or a.all().",
     "output_type": "error",
     "traceback": [
      "\u001b[0;31m---------------------------------------------------------------------------\u001b[0m",
      "\u001b[0;31mValueError\u001b[0m                                Traceback (most recent call last)",
      "Input \u001b[0;32mIn [106]\u001b[0m, in \u001b[0;36m<cell line: 1>\u001b[0;34m()\u001b[0m\n\u001b[0;32m----> 1\u001b[0m \u001b[43mclf_pipe\u001b[49m\u001b[38;5;241;43m.\u001b[39;49m\u001b[43mfit\u001b[49m\u001b[43m(\u001b[49m\u001b[43mX\u001b[49m\u001b[43m,\u001b[49m\u001b[43m \u001b[49m\u001b[43my\u001b[49m\u001b[43m)\u001b[49m\n",
      "File \u001b[0;32m~/anaconda3/envs/ember/lib/python3.9/site-packages/sklearn/pipeline.py:390\u001b[0m, in \u001b[0;36mPipeline.fit\u001b[0;34m(self, X, y, **fit_params)\u001b[0m\n\u001b[1;32m    364\u001b[0m \u001b[38;5;124;03m\"\"\"Fit the model.\u001b[39;00m\n\u001b[1;32m    365\u001b[0m \n\u001b[1;32m    366\u001b[0m \u001b[38;5;124;03mFit all the transformers one after the other and transform the\u001b[39;00m\n\u001b[0;32m   (...)\u001b[0m\n\u001b[1;32m    387\u001b[0m \u001b[38;5;124;03m    Pipeline with fitted steps.\u001b[39;00m\n\u001b[1;32m    388\u001b[0m \u001b[38;5;124;03m\"\"\"\u001b[39;00m\n\u001b[1;32m    389\u001b[0m fit_params_steps \u001b[38;5;241m=\u001b[39m \u001b[38;5;28mself\u001b[39m\u001b[38;5;241m.\u001b[39m_check_fit_params(\u001b[38;5;241m*\u001b[39m\u001b[38;5;241m*\u001b[39mfit_params)\n\u001b[0;32m--> 390\u001b[0m Xt \u001b[38;5;241m=\u001b[39m \u001b[38;5;28;43mself\u001b[39;49m\u001b[38;5;241;43m.\u001b[39;49m\u001b[43m_fit\u001b[49m\u001b[43m(\u001b[49m\u001b[43mX\u001b[49m\u001b[43m,\u001b[49m\u001b[43m \u001b[49m\u001b[43my\u001b[49m\u001b[43m,\u001b[49m\u001b[43m \u001b[49m\u001b[38;5;241;43m*\u001b[39;49m\u001b[38;5;241;43m*\u001b[39;49m\u001b[43mfit_params_steps\u001b[49m\u001b[43m)\u001b[49m\n\u001b[1;32m    391\u001b[0m \u001b[38;5;28;01mwith\u001b[39;00m _print_elapsed_time(\u001b[38;5;124m\"\u001b[39m\u001b[38;5;124mPipeline\u001b[39m\u001b[38;5;124m\"\u001b[39m, \u001b[38;5;28mself\u001b[39m\u001b[38;5;241m.\u001b[39m_log_message(\u001b[38;5;28mlen\u001b[39m(\u001b[38;5;28mself\u001b[39m\u001b[38;5;241m.\u001b[39msteps) \u001b[38;5;241m-\u001b[39m \u001b[38;5;241m1\u001b[39m)):\n\u001b[1;32m    392\u001b[0m     \u001b[38;5;28;01mif\u001b[39;00m \u001b[38;5;28mself\u001b[39m\u001b[38;5;241m.\u001b[39m_final_estimator \u001b[38;5;241m!=\u001b[39m \u001b[38;5;124m\"\u001b[39m\u001b[38;5;124mpassthrough\u001b[39m\u001b[38;5;124m\"\u001b[39m:\n",
      "File \u001b[0;32m~/anaconda3/envs/ember/lib/python3.9/site-packages/sklearn/pipeline.py:348\u001b[0m, in \u001b[0;36mPipeline._fit\u001b[0;34m(self, X, y, **fit_params_steps)\u001b[0m\n\u001b[1;32m    346\u001b[0m     cloned_transformer \u001b[38;5;241m=\u001b[39m clone(transformer)\n\u001b[1;32m    347\u001b[0m \u001b[38;5;66;03m# Fit or load from cache the current transformer\u001b[39;00m\n\u001b[0;32m--> 348\u001b[0m X, fitted_transformer \u001b[38;5;241m=\u001b[39m \u001b[43mfit_transform_one_cached\u001b[49m\u001b[43m(\u001b[49m\n\u001b[1;32m    349\u001b[0m \u001b[43m    \u001b[49m\u001b[43mcloned_transformer\u001b[49m\u001b[43m,\u001b[49m\n\u001b[1;32m    350\u001b[0m \u001b[43m    \u001b[49m\u001b[43mX\u001b[49m\u001b[43m,\u001b[49m\n\u001b[1;32m    351\u001b[0m \u001b[43m    \u001b[49m\u001b[43my\u001b[49m\u001b[43m,\u001b[49m\n\u001b[1;32m    352\u001b[0m \u001b[43m    \u001b[49m\u001b[38;5;28;43;01mNone\u001b[39;49;00m\u001b[43m,\u001b[49m\n\u001b[1;32m    353\u001b[0m \u001b[43m    \u001b[49m\u001b[43mmessage_clsname\u001b[49m\u001b[38;5;241;43m=\u001b[39;49m\u001b[38;5;124;43m\"\u001b[39;49m\u001b[38;5;124;43mPipeline\u001b[39;49m\u001b[38;5;124;43m\"\u001b[39;49m\u001b[43m,\u001b[49m\n\u001b[1;32m    354\u001b[0m \u001b[43m    \u001b[49m\u001b[43mmessage\u001b[49m\u001b[38;5;241;43m=\u001b[39;49m\u001b[38;5;28;43mself\u001b[39;49m\u001b[38;5;241;43m.\u001b[39;49m\u001b[43m_log_message\u001b[49m\u001b[43m(\u001b[49m\u001b[43mstep_idx\u001b[49m\u001b[43m)\u001b[49m\u001b[43m,\u001b[49m\n\u001b[1;32m    355\u001b[0m \u001b[43m    \u001b[49m\u001b[38;5;241;43m*\u001b[39;49m\u001b[38;5;241;43m*\u001b[39;49m\u001b[43mfit_params_steps\u001b[49m\u001b[43m[\u001b[49m\u001b[43mname\u001b[49m\u001b[43m]\u001b[49m\u001b[43m,\u001b[49m\n\u001b[1;32m    356\u001b[0m \u001b[43m\u001b[49m\u001b[43m)\u001b[49m\n\u001b[1;32m    357\u001b[0m \u001b[38;5;66;03m# Replace the transformer of the step with the fitted\u001b[39;00m\n\u001b[1;32m    358\u001b[0m \u001b[38;5;66;03m# transformer. This is necessary when loading the transformer\u001b[39;00m\n\u001b[1;32m    359\u001b[0m \u001b[38;5;66;03m# from the cache.\u001b[39;00m\n\u001b[1;32m    360\u001b[0m \u001b[38;5;28mself\u001b[39m\u001b[38;5;241m.\u001b[39msteps[step_idx] \u001b[38;5;241m=\u001b[39m (name, fitted_transformer)\n",
      "File \u001b[0;32m~/anaconda3/envs/ember/lib/python3.9/site-packages/joblib/memory.py:349\u001b[0m, in \u001b[0;36mNotMemorizedFunc.__call__\u001b[0;34m(self, *args, **kwargs)\u001b[0m\n\u001b[1;32m    348\u001b[0m \u001b[38;5;28;01mdef\u001b[39;00m \u001b[38;5;21m__call__\u001b[39m(\u001b[38;5;28mself\u001b[39m, \u001b[38;5;241m*\u001b[39margs, \u001b[38;5;241m*\u001b[39m\u001b[38;5;241m*\u001b[39mkwargs):\n\u001b[0;32m--> 349\u001b[0m     \u001b[38;5;28;01mreturn\u001b[39;00m \u001b[38;5;28;43mself\u001b[39;49m\u001b[38;5;241;43m.\u001b[39;49m\u001b[43mfunc\u001b[49m\u001b[43m(\u001b[49m\u001b[38;5;241;43m*\u001b[39;49m\u001b[43margs\u001b[49m\u001b[43m,\u001b[49m\u001b[43m \u001b[49m\u001b[38;5;241;43m*\u001b[39;49m\u001b[38;5;241;43m*\u001b[39;49m\u001b[43mkwargs\u001b[49m\u001b[43m)\u001b[49m\n",
      "File \u001b[0;32m~/anaconda3/envs/ember/lib/python3.9/site-packages/sklearn/pipeline.py:893\u001b[0m, in \u001b[0;36m_fit_transform_one\u001b[0;34m(transformer, X, y, weight, message_clsname, message, **fit_params)\u001b[0m\n\u001b[1;32m    891\u001b[0m \u001b[38;5;28;01mwith\u001b[39;00m _print_elapsed_time(message_clsname, message):\n\u001b[1;32m    892\u001b[0m     \u001b[38;5;28;01mif\u001b[39;00m \u001b[38;5;28mhasattr\u001b[39m(transformer, \u001b[38;5;124m\"\u001b[39m\u001b[38;5;124mfit_transform\u001b[39m\u001b[38;5;124m\"\u001b[39m):\n\u001b[0;32m--> 893\u001b[0m         res \u001b[38;5;241m=\u001b[39m \u001b[43mtransformer\u001b[49m\u001b[38;5;241;43m.\u001b[39;49m\u001b[43mfit_transform\u001b[49m\u001b[43m(\u001b[49m\u001b[43mX\u001b[49m\u001b[43m,\u001b[49m\u001b[43m \u001b[49m\u001b[43my\u001b[49m\u001b[43m,\u001b[49m\u001b[43m \u001b[49m\u001b[38;5;241;43m*\u001b[39;49m\u001b[38;5;241;43m*\u001b[39;49m\u001b[43mfit_params\u001b[49m\u001b[43m)\u001b[49m\n\u001b[1;32m    894\u001b[0m     \u001b[38;5;28;01melse\u001b[39;00m:\n\u001b[1;32m    895\u001b[0m         res \u001b[38;5;241m=\u001b[39m transformer\u001b[38;5;241m.\u001b[39mfit(X, y, \u001b[38;5;241m*\u001b[39m\u001b[38;5;241m*\u001b[39mfit_params)\u001b[38;5;241m.\u001b[39mtransform(X)\n",
      "File \u001b[0;32m~/anaconda3/envs/ember/lib/python3.9/site-packages/sklearn/pipeline.py:1172\u001b[0m, in \u001b[0;36mFeatureUnion.fit_transform\u001b[0;34m(self, X, y, **fit_params)\u001b[0m\n\u001b[1;32m   1151\u001b[0m \u001b[38;5;28;01mdef\u001b[39;00m \u001b[38;5;21mfit_transform\u001b[39m(\u001b[38;5;28mself\u001b[39m, X, y\u001b[38;5;241m=\u001b[39m\u001b[38;5;28;01mNone\u001b[39;00m, \u001b[38;5;241m*\u001b[39m\u001b[38;5;241m*\u001b[39mfit_params):\n\u001b[1;32m   1152\u001b[0m     \u001b[38;5;124;03m\"\"\"Fit all transformers, transform the data and concatenate results.\u001b[39;00m\n\u001b[1;32m   1153\u001b[0m \n\u001b[1;32m   1154\u001b[0m \u001b[38;5;124;03m    Parameters\u001b[39;00m\n\u001b[0;32m   (...)\u001b[0m\n\u001b[1;32m   1170\u001b[0m \u001b[38;5;124;03m        sum of `n_components` (output dimension) over transformers.\u001b[39;00m\n\u001b[1;32m   1171\u001b[0m \u001b[38;5;124;03m    \"\"\"\u001b[39;00m\n\u001b[0;32m-> 1172\u001b[0m     results \u001b[38;5;241m=\u001b[39m \u001b[38;5;28;43mself\u001b[39;49m\u001b[38;5;241;43m.\u001b[39;49m\u001b[43m_parallel_func\u001b[49m\u001b[43m(\u001b[49m\u001b[43mX\u001b[49m\u001b[43m,\u001b[49m\u001b[43m \u001b[49m\u001b[43my\u001b[49m\u001b[43m,\u001b[49m\u001b[43m \u001b[49m\u001b[43mfit_params\u001b[49m\u001b[43m,\u001b[49m\u001b[43m \u001b[49m\u001b[43m_fit_transform_one\u001b[49m\u001b[43m)\u001b[49m\n\u001b[1;32m   1173\u001b[0m     \u001b[38;5;28;01mif\u001b[39;00m \u001b[38;5;129;01mnot\u001b[39;00m results:\n\u001b[1;32m   1174\u001b[0m         \u001b[38;5;66;03m# All transformers are None\u001b[39;00m\n\u001b[1;32m   1175\u001b[0m         \u001b[38;5;28;01mreturn\u001b[39;00m np\u001b[38;5;241m.\u001b[39mzeros((X\u001b[38;5;241m.\u001b[39mshape[\u001b[38;5;241m0\u001b[39m], \u001b[38;5;241m0\u001b[39m))\n",
      "File \u001b[0;32m~/anaconda3/envs/ember/lib/python3.9/site-packages/sklearn/pipeline.py:1194\u001b[0m, in \u001b[0;36mFeatureUnion._parallel_func\u001b[0;34m(self, X, y, fit_params, func)\u001b[0m\n\u001b[1;32m   1191\u001b[0m \u001b[38;5;28mself\u001b[39m\u001b[38;5;241m.\u001b[39m_validate_transformer_weights()\n\u001b[1;32m   1192\u001b[0m transformers \u001b[38;5;241m=\u001b[39m \u001b[38;5;28mlist\u001b[39m(\u001b[38;5;28mself\u001b[39m\u001b[38;5;241m.\u001b[39m_iter())\n\u001b[0;32m-> 1194\u001b[0m \u001b[38;5;28;01mreturn\u001b[39;00m \u001b[43mParallel\u001b[49m\u001b[43m(\u001b[49m\u001b[43mn_jobs\u001b[49m\u001b[38;5;241;43m=\u001b[39;49m\u001b[38;5;28;43mself\u001b[39;49m\u001b[38;5;241;43m.\u001b[39;49m\u001b[43mn_jobs\u001b[49m\u001b[43m)\u001b[49m\u001b[43m(\u001b[49m\n\u001b[1;32m   1195\u001b[0m \u001b[43m    \u001b[49m\u001b[43mdelayed\u001b[49m\u001b[43m(\u001b[49m\u001b[43mfunc\u001b[49m\u001b[43m)\u001b[49m\u001b[43m(\u001b[49m\n\u001b[1;32m   1196\u001b[0m \u001b[43m        \u001b[49m\u001b[43mtransformer\u001b[49m\u001b[43m,\u001b[49m\n\u001b[1;32m   1197\u001b[0m \u001b[43m        \u001b[49m\u001b[43mX\u001b[49m\u001b[43m,\u001b[49m\n\u001b[1;32m   1198\u001b[0m \u001b[43m        \u001b[49m\u001b[43my\u001b[49m\u001b[43m,\u001b[49m\n\u001b[1;32m   1199\u001b[0m \u001b[43m        \u001b[49m\u001b[43mweight\u001b[49m\u001b[43m,\u001b[49m\n\u001b[1;32m   1200\u001b[0m \u001b[43m        \u001b[49m\u001b[43mmessage_clsname\u001b[49m\u001b[38;5;241;43m=\u001b[39;49m\u001b[38;5;124;43m\"\u001b[39;49m\u001b[38;5;124;43mFeatureUnion\u001b[39;49m\u001b[38;5;124;43m\"\u001b[39;49m\u001b[43m,\u001b[49m\n\u001b[1;32m   1201\u001b[0m \u001b[43m        \u001b[49m\u001b[43mmessage\u001b[49m\u001b[38;5;241;43m=\u001b[39;49m\u001b[38;5;28;43mself\u001b[39;49m\u001b[38;5;241;43m.\u001b[39;49m\u001b[43m_log_message\u001b[49m\u001b[43m(\u001b[49m\u001b[43mname\u001b[49m\u001b[43m,\u001b[49m\u001b[43m \u001b[49m\u001b[43midx\u001b[49m\u001b[43m,\u001b[49m\u001b[43m \u001b[49m\u001b[38;5;28;43mlen\u001b[39;49m\u001b[43m(\u001b[49m\u001b[43mtransformers\u001b[49m\u001b[43m)\u001b[49m\u001b[43m)\u001b[49m\u001b[43m,\u001b[49m\n\u001b[1;32m   1202\u001b[0m \u001b[43m        \u001b[49m\u001b[38;5;241;43m*\u001b[39;49m\u001b[38;5;241;43m*\u001b[39;49m\u001b[43mfit_params\u001b[49m\u001b[43m,\u001b[49m\n\u001b[1;32m   1203\u001b[0m \u001b[43m    \u001b[49m\u001b[43m)\u001b[49m\n\u001b[1;32m   1204\u001b[0m \u001b[43m    \u001b[49m\u001b[38;5;28;43;01mfor\u001b[39;49;00m\u001b[43m \u001b[49m\u001b[43midx\u001b[49m\u001b[43m,\u001b[49m\u001b[43m \u001b[49m\u001b[43m(\u001b[49m\u001b[43mname\u001b[49m\u001b[43m,\u001b[49m\u001b[43m \u001b[49m\u001b[43mtransformer\u001b[49m\u001b[43m,\u001b[49m\u001b[43m \u001b[49m\u001b[43mweight\u001b[49m\u001b[43m)\u001b[49m\u001b[43m \u001b[49m\u001b[38;5;129;43;01min\u001b[39;49;00m\u001b[43m \u001b[49m\u001b[38;5;28;43menumerate\u001b[39;49m\u001b[43m(\u001b[49m\u001b[43mtransformers\u001b[49m\u001b[43m,\u001b[49m\u001b[43m \u001b[49m\u001b[38;5;241;43m1\u001b[39;49m\u001b[43m)\u001b[49m\n\u001b[1;32m   1205\u001b[0m \u001b[43m\u001b[49m\u001b[43m)\u001b[49m\n",
      "File \u001b[0;32m~/anaconda3/envs/ember/lib/python3.9/site-packages/joblib/parallel.py:1043\u001b[0m, in \u001b[0;36mParallel.__call__\u001b[0;34m(self, iterable)\u001b[0m\n\u001b[1;32m   1034\u001b[0m \u001b[38;5;28;01mtry\u001b[39;00m:\n\u001b[1;32m   1035\u001b[0m     \u001b[38;5;66;03m# Only set self._iterating to True if at least a batch\u001b[39;00m\n\u001b[1;32m   1036\u001b[0m     \u001b[38;5;66;03m# was dispatched. In particular this covers the edge\u001b[39;00m\n\u001b[0;32m   (...)\u001b[0m\n\u001b[1;32m   1040\u001b[0m     \u001b[38;5;66;03m# was very quick and its callback already dispatched all the\u001b[39;00m\n\u001b[1;32m   1041\u001b[0m     \u001b[38;5;66;03m# remaining jobs.\u001b[39;00m\n\u001b[1;32m   1042\u001b[0m     \u001b[38;5;28mself\u001b[39m\u001b[38;5;241m.\u001b[39m_iterating \u001b[38;5;241m=\u001b[39m \u001b[38;5;28;01mFalse\u001b[39;00m\n\u001b[0;32m-> 1043\u001b[0m     \u001b[38;5;28;01mif\u001b[39;00m \u001b[38;5;28;43mself\u001b[39;49m\u001b[38;5;241;43m.\u001b[39;49m\u001b[43mdispatch_one_batch\u001b[49m\u001b[43m(\u001b[49m\u001b[43miterator\u001b[49m\u001b[43m)\u001b[49m:\n\u001b[1;32m   1044\u001b[0m         \u001b[38;5;28mself\u001b[39m\u001b[38;5;241m.\u001b[39m_iterating \u001b[38;5;241m=\u001b[39m \u001b[38;5;28mself\u001b[39m\u001b[38;5;241m.\u001b[39m_original_iterator \u001b[38;5;129;01mis\u001b[39;00m \u001b[38;5;129;01mnot\u001b[39;00m \u001b[38;5;28;01mNone\u001b[39;00m\n\u001b[1;32m   1046\u001b[0m     \u001b[38;5;28;01mwhile\u001b[39;00m \u001b[38;5;28mself\u001b[39m\u001b[38;5;241m.\u001b[39mdispatch_one_batch(iterator):\n",
      "File \u001b[0;32m~/anaconda3/envs/ember/lib/python3.9/site-packages/joblib/parallel.py:861\u001b[0m, in \u001b[0;36mParallel.dispatch_one_batch\u001b[0;34m(self, iterator)\u001b[0m\n\u001b[1;32m    859\u001b[0m     \u001b[38;5;28;01mreturn\u001b[39;00m \u001b[38;5;28;01mFalse\u001b[39;00m\n\u001b[1;32m    860\u001b[0m \u001b[38;5;28;01melse\u001b[39;00m:\n\u001b[0;32m--> 861\u001b[0m     \u001b[38;5;28;43mself\u001b[39;49m\u001b[38;5;241;43m.\u001b[39;49m\u001b[43m_dispatch\u001b[49m\u001b[43m(\u001b[49m\u001b[43mtasks\u001b[49m\u001b[43m)\u001b[49m\n\u001b[1;32m    862\u001b[0m     \u001b[38;5;28;01mreturn\u001b[39;00m \u001b[38;5;28;01mTrue\u001b[39;00m\n",
      "File \u001b[0;32m~/anaconda3/envs/ember/lib/python3.9/site-packages/joblib/parallel.py:779\u001b[0m, in \u001b[0;36mParallel._dispatch\u001b[0;34m(self, batch)\u001b[0m\n\u001b[1;32m    777\u001b[0m \u001b[38;5;28;01mwith\u001b[39;00m \u001b[38;5;28mself\u001b[39m\u001b[38;5;241m.\u001b[39m_lock:\n\u001b[1;32m    778\u001b[0m     job_idx \u001b[38;5;241m=\u001b[39m \u001b[38;5;28mlen\u001b[39m(\u001b[38;5;28mself\u001b[39m\u001b[38;5;241m.\u001b[39m_jobs)\n\u001b[0;32m--> 779\u001b[0m     job \u001b[38;5;241m=\u001b[39m \u001b[38;5;28;43mself\u001b[39;49m\u001b[38;5;241;43m.\u001b[39;49m\u001b[43m_backend\u001b[49m\u001b[38;5;241;43m.\u001b[39;49m\u001b[43mapply_async\u001b[49m\u001b[43m(\u001b[49m\u001b[43mbatch\u001b[49m\u001b[43m,\u001b[49m\u001b[43m \u001b[49m\u001b[43mcallback\u001b[49m\u001b[38;5;241;43m=\u001b[39;49m\u001b[43mcb\u001b[49m\u001b[43m)\u001b[49m\n\u001b[1;32m    780\u001b[0m     \u001b[38;5;66;03m# A job can complete so quickly than its callback is\u001b[39;00m\n\u001b[1;32m    781\u001b[0m     \u001b[38;5;66;03m# called before we get here, causing self._jobs to\u001b[39;00m\n\u001b[1;32m    782\u001b[0m     \u001b[38;5;66;03m# grow. To ensure correct results ordering, .insert is\u001b[39;00m\n\u001b[1;32m    783\u001b[0m     \u001b[38;5;66;03m# used (rather than .append) in the following line\u001b[39;00m\n\u001b[1;32m    784\u001b[0m     \u001b[38;5;28mself\u001b[39m\u001b[38;5;241m.\u001b[39m_jobs\u001b[38;5;241m.\u001b[39minsert(job_idx, job)\n",
      "File \u001b[0;32m~/anaconda3/envs/ember/lib/python3.9/site-packages/joblib/_parallel_backends.py:208\u001b[0m, in \u001b[0;36mSequentialBackend.apply_async\u001b[0;34m(self, func, callback)\u001b[0m\n\u001b[1;32m    206\u001b[0m \u001b[38;5;28;01mdef\u001b[39;00m \u001b[38;5;21mapply_async\u001b[39m(\u001b[38;5;28mself\u001b[39m, func, callback\u001b[38;5;241m=\u001b[39m\u001b[38;5;28;01mNone\u001b[39;00m):\n\u001b[1;32m    207\u001b[0m     \u001b[38;5;124;03m\"\"\"Schedule a func to be run\"\"\"\u001b[39;00m\n\u001b[0;32m--> 208\u001b[0m     result \u001b[38;5;241m=\u001b[39m \u001b[43mImmediateResult\u001b[49m\u001b[43m(\u001b[49m\u001b[43mfunc\u001b[49m\u001b[43m)\u001b[49m\n\u001b[1;32m    209\u001b[0m     \u001b[38;5;28;01mif\u001b[39;00m callback:\n\u001b[1;32m    210\u001b[0m         callback(result)\n",
      "File \u001b[0;32m~/anaconda3/envs/ember/lib/python3.9/site-packages/joblib/_parallel_backends.py:572\u001b[0m, in \u001b[0;36mImmediateResult.__init__\u001b[0;34m(self, batch)\u001b[0m\n\u001b[1;32m    569\u001b[0m \u001b[38;5;28;01mdef\u001b[39;00m \u001b[38;5;21m__init__\u001b[39m(\u001b[38;5;28mself\u001b[39m, batch):\n\u001b[1;32m    570\u001b[0m     \u001b[38;5;66;03m# Don't delay the application, to avoid keeping the input\u001b[39;00m\n\u001b[1;32m    571\u001b[0m     \u001b[38;5;66;03m# arguments in memory\u001b[39;00m\n\u001b[0;32m--> 572\u001b[0m     \u001b[38;5;28mself\u001b[39m\u001b[38;5;241m.\u001b[39mresults \u001b[38;5;241m=\u001b[39m \u001b[43mbatch\u001b[49m\u001b[43m(\u001b[49m\u001b[43m)\u001b[49m\n",
      "File \u001b[0;32m~/anaconda3/envs/ember/lib/python3.9/site-packages/joblib/parallel.py:262\u001b[0m, in \u001b[0;36mBatchedCalls.__call__\u001b[0;34m(self)\u001b[0m\n\u001b[1;32m    258\u001b[0m \u001b[38;5;28;01mdef\u001b[39;00m \u001b[38;5;21m__call__\u001b[39m(\u001b[38;5;28mself\u001b[39m):\n\u001b[1;32m    259\u001b[0m     \u001b[38;5;66;03m# Set the default nested backend to self._backend but do not set the\u001b[39;00m\n\u001b[1;32m    260\u001b[0m     \u001b[38;5;66;03m# change the default number of processes to -1\u001b[39;00m\n\u001b[1;32m    261\u001b[0m     \u001b[38;5;28;01mwith\u001b[39;00m parallel_backend(\u001b[38;5;28mself\u001b[39m\u001b[38;5;241m.\u001b[39m_backend, n_jobs\u001b[38;5;241m=\u001b[39m\u001b[38;5;28mself\u001b[39m\u001b[38;5;241m.\u001b[39m_n_jobs):\n\u001b[0;32m--> 262\u001b[0m         \u001b[38;5;28;01mreturn\u001b[39;00m [func(\u001b[38;5;241m*\u001b[39margs, \u001b[38;5;241m*\u001b[39m\u001b[38;5;241m*\u001b[39mkwargs)\n\u001b[1;32m    263\u001b[0m                 \u001b[38;5;28;01mfor\u001b[39;00m func, args, kwargs \u001b[38;5;129;01min\u001b[39;00m \u001b[38;5;28mself\u001b[39m\u001b[38;5;241m.\u001b[39mitems]\n",
      "File \u001b[0;32m~/anaconda3/envs/ember/lib/python3.9/site-packages/joblib/parallel.py:262\u001b[0m, in \u001b[0;36m<listcomp>\u001b[0;34m(.0)\u001b[0m\n\u001b[1;32m    258\u001b[0m \u001b[38;5;28;01mdef\u001b[39;00m \u001b[38;5;21m__call__\u001b[39m(\u001b[38;5;28mself\u001b[39m):\n\u001b[1;32m    259\u001b[0m     \u001b[38;5;66;03m# Set the default nested backend to self._backend but do not set the\u001b[39;00m\n\u001b[1;32m    260\u001b[0m     \u001b[38;5;66;03m# change the default number of processes to -1\u001b[39;00m\n\u001b[1;32m    261\u001b[0m     \u001b[38;5;28;01mwith\u001b[39;00m parallel_backend(\u001b[38;5;28mself\u001b[39m\u001b[38;5;241m.\u001b[39m_backend, n_jobs\u001b[38;5;241m=\u001b[39m\u001b[38;5;28mself\u001b[39m\u001b[38;5;241m.\u001b[39m_n_jobs):\n\u001b[0;32m--> 262\u001b[0m         \u001b[38;5;28;01mreturn\u001b[39;00m [\u001b[43mfunc\u001b[49m\u001b[43m(\u001b[49m\u001b[38;5;241;43m*\u001b[39;49m\u001b[43margs\u001b[49m\u001b[43m,\u001b[49m\u001b[43m \u001b[49m\u001b[38;5;241;43m*\u001b[39;49m\u001b[38;5;241;43m*\u001b[39;49m\u001b[43mkwargs\u001b[49m\u001b[43m)\u001b[49m\n\u001b[1;32m    263\u001b[0m                 \u001b[38;5;28;01mfor\u001b[39;00m func, args, kwargs \u001b[38;5;129;01min\u001b[39;00m \u001b[38;5;28mself\u001b[39m\u001b[38;5;241m.\u001b[39mitems]\n",
      "File \u001b[0;32m~/anaconda3/envs/ember/lib/python3.9/site-packages/sklearn/utils/fixes.py:216\u001b[0m, in \u001b[0;36m_FuncWrapper.__call__\u001b[0;34m(self, *args, **kwargs)\u001b[0m\n\u001b[1;32m    214\u001b[0m \u001b[38;5;28;01mdef\u001b[39;00m \u001b[38;5;21m__call__\u001b[39m(\u001b[38;5;28mself\u001b[39m, \u001b[38;5;241m*\u001b[39margs, \u001b[38;5;241m*\u001b[39m\u001b[38;5;241m*\u001b[39mkwargs):\n\u001b[1;32m    215\u001b[0m     \u001b[38;5;28;01mwith\u001b[39;00m config_context(\u001b[38;5;241m*\u001b[39m\u001b[38;5;241m*\u001b[39m\u001b[38;5;28mself\u001b[39m\u001b[38;5;241m.\u001b[39mconfig):\n\u001b[0;32m--> 216\u001b[0m         \u001b[38;5;28;01mreturn\u001b[39;00m \u001b[38;5;28;43mself\u001b[39;49m\u001b[38;5;241;43m.\u001b[39;49m\u001b[43mfunction\u001b[49m\u001b[43m(\u001b[49m\u001b[38;5;241;43m*\u001b[39;49m\u001b[43margs\u001b[49m\u001b[43m,\u001b[49m\u001b[43m \u001b[49m\u001b[38;5;241;43m*\u001b[39;49m\u001b[38;5;241;43m*\u001b[39;49m\u001b[43mkwargs\u001b[49m\u001b[43m)\u001b[49m\n",
      "File \u001b[0;32m~/anaconda3/envs/ember/lib/python3.9/site-packages/sklearn/pipeline.py:893\u001b[0m, in \u001b[0;36m_fit_transform_one\u001b[0;34m(transformer, X, y, weight, message_clsname, message, **fit_params)\u001b[0m\n\u001b[1;32m    891\u001b[0m \u001b[38;5;28;01mwith\u001b[39;00m _print_elapsed_time(message_clsname, message):\n\u001b[1;32m    892\u001b[0m     \u001b[38;5;28;01mif\u001b[39;00m \u001b[38;5;28mhasattr\u001b[39m(transformer, \u001b[38;5;124m\"\u001b[39m\u001b[38;5;124mfit_transform\u001b[39m\u001b[38;5;124m\"\u001b[39m):\n\u001b[0;32m--> 893\u001b[0m         res \u001b[38;5;241m=\u001b[39m \u001b[43mtransformer\u001b[49m\u001b[38;5;241;43m.\u001b[39;49m\u001b[43mfit_transform\u001b[49m\u001b[43m(\u001b[49m\u001b[43mX\u001b[49m\u001b[43m,\u001b[49m\u001b[43m \u001b[49m\u001b[43my\u001b[49m\u001b[43m,\u001b[49m\u001b[43m \u001b[49m\u001b[38;5;241;43m*\u001b[39;49m\u001b[38;5;241;43m*\u001b[39;49m\u001b[43mfit_params\u001b[49m\u001b[43m)\u001b[49m\n\u001b[1;32m    894\u001b[0m     \u001b[38;5;28;01melse\u001b[39;00m:\n\u001b[1;32m    895\u001b[0m         res \u001b[38;5;241m=\u001b[39m transformer\u001b[38;5;241m.\u001b[39mfit(X, y, \u001b[38;5;241m*\u001b[39m\u001b[38;5;241m*\u001b[39mfit_params)\u001b[38;5;241m.\u001b[39mtransform(X)\n",
      "File \u001b[0;32m~/anaconda3/envs/ember/lib/python3.9/site-packages/sklearn/pipeline.py:426\u001b[0m, in \u001b[0;36mPipeline.fit_transform\u001b[0;34m(self, X, y, **fit_params)\u001b[0m\n\u001b[1;32m    399\u001b[0m \u001b[38;5;124;03m\"\"\"Fit the model and transform with the final estimator.\u001b[39;00m\n\u001b[1;32m    400\u001b[0m \n\u001b[1;32m    401\u001b[0m \u001b[38;5;124;03mFits all the transformers one after the other and transform the\u001b[39;00m\n\u001b[0;32m   (...)\u001b[0m\n\u001b[1;32m    423\u001b[0m \u001b[38;5;124;03m    Transformed samples.\u001b[39;00m\n\u001b[1;32m    424\u001b[0m \u001b[38;5;124;03m\"\"\"\u001b[39;00m\n\u001b[1;32m    425\u001b[0m fit_params_steps \u001b[38;5;241m=\u001b[39m \u001b[38;5;28mself\u001b[39m\u001b[38;5;241m.\u001b[39m_check_fit_params(\u001b[38;5;241m*\u001b[39m\u001b[38;5;241m*\u001b[39mfit_params)\n\u001b[0;32m--> 426\u001b[0m Xt \u001b[38;5;241m=\u001b[39m \u001b[38;5;28;43mself\u001b[39;49m\u001b[38;5;241;43m.\u001b[39;49m\u001b[43m_fit\u001b[49m\u001b[43m(\u001b[49m\u001b[43mX\u001b[49m\u001b[43m,\u001b[49m\u001b[43m \u001b[49m\u001b[43my\u001b[49m\u001b[43m,\u001b[49m\u001b[43m \u001b[49m\u001b[38;5;241;43m*\u001b[39;49m\u001b[38;5;241;43m*\u001b[39;49m\u001b[43mfit_params_steps\u001b[49m\u001b[43m)\u001b[49m\n\u001b[1;32m    428\u001b[0m last_step \u001b[38;5;241m=\u001b[39m \u001b[38;5;28mself\u001b[39m\u001b[38;5;241m.\u001b[39m_final_estimator\n\u001b[1;32m    429\u001b[0m \u001b[38;5;28;01mwith\u001b[39;00m _print_elapsed_time(\u001b[38;5;124m\"\u001b[39m\u001b[38;5;124mPipeline\u001b[39m\u001b[38;5;124m\"\u001b[39m, \u001b[38;5;28mself\u001b[39m\u001b[38;5;241m.\u001b[39m_log_message(\u001b[38;5;28mlen\u001b[39m(\u001b[38;5;28mself\u001b[39m\u001b[38;5;241m.\u001b[39msteps) \u001b[38;5;241m-\u001b[39m \u001b[38;5;241m1\u001b[39m)):\n",
      "File \u001b[0;32m~/anaconda3/envs/ember/lib/python3.9/site-packages/sklearn/pipeline.py:348\u001b[0m, in \u001b[0;36mPipeline._fit\u001b[0;34m(self, X, y, **fit_params_steps)\u001b[0m\n\u001b[1;32m    346\u001b[0m     cloned_transformer \u001b[38;5;241m=\u001b[39m clone(transformer)\n\u001b[1;32m    347\u001b[0m \u001b[38;5;66;03m# Fit or load from cache the current transformer\u001b[39;00m\n\u001b[0;32m--> 348\u001b[0m X, fitted_transformer \u001b[38;5;241m=\u001b[39m \u001b[43mfit_transform_one_cached\u001b[49m\u001b[43m(\u001b[49m\n\u001b[1;32m    349\u001b[0m \u001b[43m    \u001b[49m\u001b[43mcloned_transformer\u001b[49m\u001b[43m,\u001b[49m\n\u001b[1;32m    350\u001b[0m \u001b[43m    \u001b[49m\u001b[43mX\u001b[49m\u001b[43m,\u001b[49m\n\u001b[1;32m    351\u001b[0m \u001b[43m    \u001b[49m\u001b[43my\u001b[49m\u001b[43m,\u001b[49m\n\u001b[1;32m    352\u001b[0m \u001b[43m    \u001b[49m\u001b[38;5;28;43;01mNone\u001b[39;49;00m\u001b[43m,\u001b[49m\n\u001b[1;32m    353\u001b[0m \u001b[43m    \u001b[49m\u001b[43mmessage_clsname\u001b[49m\u001b[38;5;241;43m=\u001b[39;49m\u001b[38;5;124;43m\"\u001b[39;49m\u001b[38;5;124;43mPipeline\u001b[39;49m\u001b[38;5;124;43m\"\u001b[39;49m\u001b[43m,\u001b[49m\n\u001b[1;32m    354\u001b[0m \u001b[43m    \u001b[49m\u001b[43mmessage\u001b[49m\u001b[38;5;241;43m=\u001b[39;49m\u001b[38;5;28;43mself\u001b[39;49m\u001b[38;5;241;43m.\u001b[39;49m\u001b[43m_log_message\u001b[49m\u001b[43m(\u001b[49m\u001b[43mstep_idx\u001b[49m\u001b[43m)\u001b[49m\u001b[43m,\u001b[49m\n\u001b[1;32m    355\u001b[0m \u001b[43m    \u001b[49m\u001b[38;5;241;43m*\u001b[39;49m\u001b[38;5;241;43m*\u001b[39;49m\u001b[43mfit_params_steps\u001b[49m\u001b[43m[\u001b[49m\u001b[43mname\u001b[49m\u001b[43m]\u001b[49m\u001b[43m,\u001b[49m\n\u001b[1;32m    356\u001b[0m \u001b[43m\u001b[49m\u001b[43m)\u001b[49m\n\u001b[1;32m    357\u001b[0m \u001b[38;5;66;03m# Replace the transformer of the step with the fitted\u001b[39;00m\n\u001b[1;32m    358\u001b[0m \u001b[38;5;66;03m# transformer. This is necessary when loading the transformer\u001b[39;00m\n\u001b[1;32m    359\u001b[0m \u001b[38;5;66;03m# from the cache.\u001b[39;00m\n\u001b[1;32m    360\u001b[0m \u001b[38;5;28mself\u001b[39m\u001b[38;5;241m.\u001b[39msteps[step_idx] \u001b[38;5;241m=\u001b[39m (name, fitted_transformer)\n",
      "File \u001b[0;32m~/anaconda3/envs/ember/lib/python3.9/site-packages/joblib/memory.py:349\u001b[0m, in \u001b[0;36mNotMemorizedFunc.__call__\u001b[0;34m(self, *args, **kwargs)\u001b[0m\n\u001b[1;32m    348\u001b[0m \u001b[38;5;28;01mdef\u001b[39;00m \u001b[38;5;21m__call__\u001b[39m(\u001b[38;5;28mself\u001b[39m, \u001b[38;5;241m*\u001b[39margs, \u001b[38;5;241m*\u001b[39m\u001b[38;5;241m*\u001b[39mkwargs):\n\u001b[0;32m--> 349\u001b[0m     \u001b[38;5;28;01mreturn\u001b[39;00m \u001b[38;5;28;43mself\u001b[39;49m\u001b[38;5;241;43m.\u001b[39;49m\u001b[43mfunc\u001b[49m\u001b[43m(\u001b[49m\u001b[38;5;241;43m*\u001b[39;49m\u001b[43margs\u001b[49m\u001b[43m,\u001b[49m\u001b[43m \u001b[49m\u001b[38;5;241;43m*\u001b[39;49m\u001b[38;5;241;43m*\u001b[39;49m\u001b[43mkwargs\u001b[49m\u001b[43m)\u001b[49m\n",
      "File \u001b[0;32m~/anaconda3/envs/ember/lib/python3.9/site-packages/sklearn/pipeline.py:893\u001b[0m, in \u001b[0;36m_fit_transform_one\u001b[0;34m(transformer, X, y, weight, message_clsname, message, **fit_params)\u001b[0m\n\u001b[1;32m    891\u001b[0m \u001b[38;5;28;01mwith\u001b[39;00m _print_elapsed_time(message_clsname, message):\n\u001b[1;32m    892\u001b[0m     \u001b[38;5;28;01mif\u001b[39;00m \u001b[38;5;28mhasattr\u001b[39m(transformer, \u001b[38;5;124m\"\u001b[39m\u001b[38;5;124mfit_transform\u001b[39m\u001b[38;5;124m\"\u001b[39m):\n\u001b[0;32m--> 893\u001b[0m         res \u001b[38;5;241m=\u001b[39m \u001b[43mtransformer\u001b[49m\u001b[38;5;241;43m.\u001b[39;49m\u001b[43mfit_transform\u001b[49m\u001b[43m(\u001b[49m\u001b[43mX\u001b[49m\u001b[43m,\u001b[49m\u001b[43m \u001b[49m\u001b[43my\u001b[49m\u001b[43m,\u001b[49m\u001b[43m \u001b[49m\u001b[38;5;241;43m*\u001b[39;49m\u001b[38;5;241;43m*\u001b[39;49m\u001b[43mfit_params\u001b[49m\u001b[43m)\u001b[49m\n\u001b[1;32m    894\u001b[0m     \u001b[38;5;28;01melse\u001b[39;00m:\n\u001b[1;32m    895\u001b[0m         res \u001b[38;5;241m=\u001b[39m transformer\u001b[38;5;241m.\u001b[39mfit(X, y, \u001b[38;5;241m*\u001b[39m\u001b[38;5;241m*\u001b[39mfit_params)\u001b[38;5;241m.\u001b[39mtransform(X)\n",
      "File \u001b[0;32m~/anaconda3/envs/ember/lib/python3.9/site-packages/sklearn/base.py:855\u001b[0m, in \u001b[0;36mTransformerMixin.fit_transform\u001b[0;34m(self, X, y, **fit_params)\u001b[0m\n\u001b[1;32m    852\u001b[0m     \u001b[38;5;28;01mreturn\u001b[39;00m \u001b[38;5;28mself\u001b[39m\u001b[38;5;241m.\u001b[39mfit(X, \u001b[38;5;241m*\u001b[39m\u001b[38;5;241m*\u001b[39mfit_params)\u001b[38;5;241m.\u001b[39mtransform(X)\n\u001b[1;32m    853\u001b[0m \u001b[38;5;28;01melse\u001b[39;00m:\n\u001b[1;32m    854\u001b[0m     \u001b[38;5;66;03m# fit method of arity 2 (supervised transformation)\u001b[39;00m\n\u001b[0;32m--> 855\u001b[0m     \u001b[38;5;28;01mreturn\u001b[39;00m \u001b[38;5;28;43mself\u001b[39;49m\u001b[38;5;241;43m.\u001b[39;49m\u001b[43mfit\u001b[49m\u001b[43m(\u001b[49m\u001b[43mX\u001b[49m\u001b[43m,\u001b[49m\u001b[43m \u001b[49m\u001b[43my\u001b[49m\u001b[43m,\u001b[49m\u001b[43m \u001b[49m\u001b[38;5;241;43m*\u001b[39;49m\u001b[38;5;241;43m*\u001b[39;49m\u001b[43mfit_params\u001b[49m\u001b[43m)\u001b[49m\u001b[38;5;241m.\u001b[39mtransform(X)\n",
      "File \u001b[0;32m~/Projects/Ember/ember/utils.py:72\u001b[0m, in \u001b[0;36mFraction_Selector.fit\u001b[0;34m(self, X, y)\u001b[0m\n\u001b[1;32m     62\u001b[0m \u001b[38;5;28;01mdef\u001b[39;00m \u001b[38;5;21mfit\u001b[39m(\u001b[38;5;28mself\u001b[39m, X, y \u001b[38;5;241m=\u001b[39m \u001b[38;5;28;01mNone\u001b[39;00m):\n\u001b[1;32m     63\u001b[0m     \u001b[38;5;124;03m\"\"\"Fits transformer, columns to be droped are saved into memory\u001b[39;00m\n\u001b[1;32m     64\u001b[0m \n\u001b[1;32m     65\u001b[0m \u001b[38;5;124;03m    Args:\u001b[39;00m\n\u001b[0;32m   (...)\u001b[0m\n\u001b[1;32m     70\u001b[0m \n\u001b[1;32m     71\u001b[0m \u001b[38;5;124;03m    \"\"\"\u001b[39;00m\n\u001b[0;32m---> 72\u001b[0m     \u001b[38;5;28mself\u001b[39m\u001b[38;5;241m.\u001b[39mframe, \u001b[38;5;28mself\u001b[39m\u001b[38;5;241m.\u001b[39mchosen_columns \u001b[38;5;241m=\u001b[39m \u001b[38;5;28;43mself\u001b[39;49m\u001b[38;5;241;43m.\u001b[39;49m\u001b[43mselect_by_fraction_missing\u001b[49m\u001b[43m(\u001b[49m\u001b[43mX\u001b[49m\u001b[43m,\u001b[49m\u001b[43m \u001b[49m\u001b[38;5;28;43mself\u001b[39;49m\u001b[38;5;241;43m.\u001b[39;49m\u001b[43mfraction\u001b[49m\u001b[43m,\u001b[49m\u001b[43m \u001b[49m\u001b[38;5;28;43mself\u001b[39;49m\u001b[38;5;241;43m.\u001b[39;49m\u001b[43minplace\u001b[49m\u001b[43m,\u001b[49m\u001b[43m \u001b[49m\u001b[38;5;28;43mself\u001b[39;49m\u001b[38;5;241;43m.\u001b[39;49m\u001b[43mignored_columns\u001b[49m\u001b[43m)\u001b[49m\n\u001b[1;32m     73\u001b[0m     \u001b[38;5;28;01mreturn\u001b[39;00m \u001b[38;5;28mself\u001b[39m\n",
      "File \u001b[0;32m~/Projects/Ember/ember/utils.py:37\u001b[0m, in \u001b[0;36mFraction_Selector.select_by_fraction_missing\u001b[0;34m(X, fraction, inplace, ignored_columns)\u001b[0m\n\u001b[1;32m     35\u001b[0m percent_missing \u001b[38;5;241m=\u001b[39m dataframe[column]\u001b[38;5;241m.\u001b[39misnull()\u001b[38;5;241m.\u001b[39msum() \u001b[38;5;241m/\u001b[39m df_len\n\u001b[1;32m     36\u001b[0m \u001b[38;5;28mprint\u001b[39m(\u001b[38;5;124mf\u001b[39m\u001b[38;5;124m\"\u001b[39m\u001b[38;5;124mMissing \u001b[39m\u001b[38;5;132;01m{\u001b[39;00mpercent_missing\u001b[38;5;132;01m}\u001b[39;00m\u001b[38;5;124m\"\u001b[39m)\n\u001b[0;32m---> 37\u001b[0m \u001b[38;5;28;01mif\u001b[39;00m percent_missing \u001b[38;5;241m<\u001b[39m fraction:\n\u001b[1;32m     38\u001b[0m     \u001b[38;5;28mprint\u001b[39m(\u001b[38;5;124m\"\u001b[39m\u001b[38;5;124mSelecting\u001b[39m\u001b[38;5;124m\"\u001b[39m)\n\u001b[1;32m     39\u001b[0m     to_choose\u001b[38;5;241m.\u001b[39mappend(column)\n",
      "File \u001b[0;32m~/anaconda3/envs/ember/lib/python3.9/site-packages/pandas/core/generic.py:1527\u001b[0m, in \u001b[0;36mNDFrame.__nonzero__\u001b[0;34m(self)\u001b[0m\n\u001b[1;32m   1525\u001b[0m \u001b[38;5;129m@final\u001b[39m\n\u001b[1;32m   1526\u001b[0m \u001b[38;5;28;01mdef\u001b[39;00m \u001b[38;5;21m__nonzero__\u001b[39m(\u001b[38;5;28mself\u001b[39m):\n\u001b[0;32m-> 1527\u001b[0m     \u001b[38;5;28;01mraise\u001b[39;00m \u001b[38;5;167;01mValueError\u001b[39;00m(\n\u001b[1;32m   1528\u001b[0m         \u001b[38;5;124mf\u001b[39m\u001b[38;5;124m\"\u001b[39m\u001b[38;5;124mThe truth value of a \u001b[39m\u001b[38;5;132;01m{\u001b[39;00m\u001b[38;5;28mtype\u001b[39m(\u001b[38;5;28mself\u001b[39m)\u001b[38;5;241m.\u001b[39m\u001b[38;5;18m__name__\u001b[39m\u001b[38;5;132;01m}\u001b[39;00m\u001b[38;5;124m is ambiguous. \u001b[39m\u001b[38;5;124m\"\u001b[39m\n\u001b[1;32m   1529\u001b[0m         \u001b[38;5;124m\"\u001b[39m\u001b[38;5;124mUse a.empty, a.bool(), a.item(), a.any() or a.all().\u001b[39m\u001b[38;5;124m\"\u001b[39m\n\u001b[1;32m   1530\u001b[0m     )\n",
      "\u001b[0;31mValueError\u001b[0m: The truth value of a Series is ambiguous. Use a.empty, a.bool(), a.item(), a.any() or a.all()."
     ]
    }
   ],
   "source": [
    "clf_pipe.fit(X, y)"
   ]
  },
  {
   "cell_type": "code",
   "execution_count": null,
   "id": "71ae659c",
   "metadata": {},
   "outputs": [],
   "source": [
    "# results_train = clf_pipe.predict(X_train)\n",
    "results_test = clf_pipe.predict(X_test)\n",
    "results_train = clf_pipe.predict(X_train)"
   ]
  },
  {
   "cell_type": "code",
   "execution_count": null,
   "id": "16e73a60",
   "metadata": {},
   "outputs": [],
   "source": [
    "from sklearn.metrics import r2_score, mean_squared_error\n",
    "mean_squared_error(y_train, results_train)**(1/2), mean_squared_error(y_test, results_test)**(1/2)"
   ]
  },
  {
   "cell_type": "code",
   "execution_count": null,
   "id": "3122652c",
   "metadata": {},
   "outputs": [],
   "source": [
    "main_ts = pd.read_csv(dsp / 'css_main_test.csv', low_memory=False).iloc[:,:-1]\n",
    "routes_ts = pd.read_csv(dsp / 'css_routes_test.csv', sep=';')\n",
    "routes_ts = routes_ts.groupby('id_contract')[list(routes_ts.columns)[1:]].sum()\n",
    "merged_ts = pd.merge(main_ts,routes_ts,on='id_contract',how='left')\n",
    "merged_ts = filter_df(merged_ts)"
   ]
  },
  {
   "cell_type": "code",
   "execution_count": null,
   "id": "3ba15566",
   "metadata": {},
   "outputs": [],
   "source": [
    "X, y = merged_ts.drop(columns = ['expenses']),merged_ts['expenses']"
   ]
  },
  {
   "cell_type": "code",
   "execution_count": null,
   "id": "9f882410",
   "metadata": {},
   "outputs": [],
   "source": [
    "preds = clf_pipe.predict(X)\n",
    "preds.shape"
   ]
  },
  {
   "cell_type": "code",
   "execution_count": null,
   "id": "323237cd",
   "metadata": {},
   "outputs": [],
   "source": [
    "with open(\"./results.txt\", 'w') as file:\n",
    "    preds = [str(x) for x in preds]\n",
    "    file.write('\\n'.join(preds))"
   ]
  },
  {
   "cell_type": "code",
   "execution_count": null,
   "id": "4b6ce103",
   "metadata": {},
   "outputs": [],
   "source": [
    "os.listdir()"
   ]
  },
  {
   "cell_type": "code",
   "execution_count": 64,
   "id": "f3fcd18f",
   "metadata": {},
   "outputs": [
    {
     "data": {
      "text/plain": [
       "0"
      ]
     },
     "execution_count": 64,
     "metadata": {},
     "output_type": "execute_result"
    }
   ],
   "source": [
    "merged.isin(['CdTe']).sum().sum()"
   ]
  },
  {
   "cell_type": "code",
   "execution_count": 88,
   "id": "c7b0e848",
   "metadata": {},
   "outputs": [
    {
     "data": {
      "text/plain": [
       "Index(['expenses', 'direction', 'route_start_datetime', 'km_empty_x',\n",
       "       'km_nonempty_x', 'train_km_x', 'prim_train_line', 'train_intervals',\n",
       "       'ferry_duration_x', 'prim_ferry_line', 'ferry_intervals', 'km_total',\n",
       "       'max_weight', 'id_contractor', 'step', 'if_empty', 'kg_load_unload',\n",
       "       'kg_current', 'ferry', 'ferry_duration_y', 'train', 'train_km_y',\n",
       "       'train_line', 'tail_init', 'tail_fin', 'tail', 'km', 'km_nonempty_y',\n",
       "       'km_empty_y', 'km_haversine', 'vehicle_payload_kg',\n",
       "       'vehicle_payload_pallets'],\n",
       "      dtype='object')"
      ]
     },
     "execution_count": 88,
     "metadata": {},
     "output_type": "execute_result"
    }
   ],
   "source": [
    "merged.columns"
   ]
  },
  {
   "cell_type": "code",
   "execution_count": null,
   "id": "22aef5be",
   "metadata": {},
   "outputs": [],
   "source": []
  }
 ],
 "metadata": {
  "kernelspec": {
   "display_name": "Python 3 (ipykernel)",
   "language": "python",
   "name": "python3"
  },
  "language_info": {
   "codemirror_mode": {
    "name": "ipython",
    "version": 3
   },
   "file_extension": ".py",
   "mimetype": "text/x-python",
   "name": "python",
   "nbconvert_exporter": "python",
   "pygments_lexer": "ipython3",
   "version": "3.9.12"
  }
 },
 "nbformat": 4,
 "nbformat_minor": 5
}
